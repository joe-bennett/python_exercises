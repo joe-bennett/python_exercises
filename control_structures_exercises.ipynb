{
 "cells": [
  {
   "cell_type": "code",
   "execution_count": 8,
   "id": "dfaba735",
   "metadata": {},
   "outputs": [
    {
     "name": "stdout",
     "output_type": "stream",
     "text": [
      "enter_day_of_the_weekMoNdaY\n",
      "it_is_monday\n"
     ]
    }
   ],
   "source": [
    "# 1. Conditional basics\n",
    "\n",
    "# a. prompt the user for a day of the week, print out whether the day is Monday or not\n",
    "day_of_the_week=input ('enter_day_of_the_week')\n",
    "\n",
    "if day_of_the_week.lower() == \"monday\":\n",
    "    print('it_is_monday')\n",
    "else: \n",
    "    print('it_is_not_monday')\n",
    "    \n",
    "    \n",
    "\n"
   ]
  },
  {
   "cell_type": "code",
   "execution_count": 10,
   "id": "8a4d7dfe",
   "metadata": {},
   "outputs": [
    {
     "name": "stdout",
     "output_type": "stream",
     "text": [
      "enter_day_of_the_weekFriDay\n",
      "it_is_a_weekday\n"
     ]
    }
   ],
   "source": [
    "# b. prompt the user for a day of the week, print out whether the day is a weekday or a weekend\n",
    "\n",
    "day_of_the_week = input('enter_day_of_the_week')\n",
    "if day_of_the_week.lower() in ['saturday', 'sunday']:\n",
    "    print('it_is_the_weekend')\n",
    "else:\n",
    "    print(\"it_is_a_weekday\")\n",
    "\n"
   ]
  },
  {
   "cell_type": "code",
   "execution_count": 99,
   "id": "2e75e97c",
   "metadata": {},
   "outputs": [
    {
     "name": "stdout",
     "output_type": "stream",
     "text": [
      "1875.0\n"
     ]
    }
   ],
   "source": [
    "# create variables and make up values for\n",
    "\n",
    "# the number of hours worked in one week\n",
    "# the hourly rate\n",
    "# how much the week's paycheck will be\n",
    "# write the python code that calculates the weekly paycheck. You get paid time and a half if you work more than 40 hours\n",
    "\n",
    "num_hrs = 55\n",
    "hr_rate = 30\n",
    "\n",
    "\n",
    "\n",
    "if num_hrs > 40:\n",
    "    ot_rate = hr_rate * 1.5\n",
    "    ot_hrs = num_hrs - 40\n",
    "    print((40 * hr_rate) + (ot_hrs * ot_rate))\n",
    "else:\n",
    "    paycheck= num_hrs * hr_rate\n",
    "    print(paycheck)\n",
    "\n"
   ]
  },
  {
   "cell_type": "code",
   "execution_count": 98,
   "id": "5844bed1",
   "metadata": {},
   "outputs": [
    {
     "name": "stdout",
     "output_type": "stream",
     "text": [
      "6\n",
      "7\n",
      "8\n",
      "9\n",
      "10\n",
      "11\n",
      "12\n",
      "13\n",
      "14\n",
      "15\n",
      "16\n"
     ]
    }
   ],
   "source": [
    "# 2.Loop Basics\n",
    "\n",
    "# While\n",
    "\n",
    "# Create an integer variable i with a value of 5.\n",
    "# Create a while loop that runs so long as i is less than or equal to 15\n",
    "# Each loop iteration, output the current value of i, then increment i by one.\n",
    "\n",
    "i = 5\n",
    "while i <= 15:\n",
    "    i += 1\n",
    "    print(i)\n"
   ]
  },
  {
   "cell_type": "code",
   "execution_count": 23,
   "id": "5618362c",
   "metadata": {},
   "outputs": [
    {
     "name": "stdout",
     "output_type": "stream",
     "text": [
      "2\n",
      "4\n",
      "6\n",
      "8\n",
      "10\n",
      "12\n",
      "14\n",
      "16\n",
      "18\n",
      "20\n",
      "22\n",
      "24\n",
      "26\n",
      "28\n",
      "30\n",
      "32\n",
      "34\n",
      "36\n",
      "38\n",
      "40\n",
      "42\n",
      "44\n",
      "46\n",
      "48\n",
      "50\n",
      "52\n",
      "54\n",
      "56\n",
      "58\n",
      "60\n",
      "62\n",
      "64\n",
      "66\n",
      "68\n",
      "70\n",
      "72\n",
      "74\n",
      "76\n",
      "78\n",
      "80\n",
      "82\n",
      "84\n",
      "86\n",
      "88\n",
      "90\n",
      "92\n",
      "94\n",
      "96\n",
      "98\n",
      "100\n"
     ]
    }
   ],
   "source": [
    "# Create a while loop that will count by 2's starting with 0 and ending at 100. \n",
    "# Follow each number with a new line\n",
    "\n",
    "i=0\n",
    "while i < 99:\n",
    "    i = i+2\n",
    "    print(i)"
   ]
  },
  {
   "cell_type": "code",
   "execution_count": 27,
   "id": "9ad24b91",
   "metadata": {},
   "outputs": [
    {
     "name": "stdout",
     "output_type": "stream",
     "text": [
      "100\n",
      "95\n",
      "90\n",
      "85\n",
      "80\n",
      "75\n",
      "70\n",
      "65\n",
      "60\n",
      "55\n",
      "50\n",
      "45\n",
      "40\n",
      "35\n",
      "30\n",
      "25\n",
      "20\n",
      "15\n",
      "10\n",
      "5\n",
      "0\n",
      "-5\n",
      "-10\n"
     ]
    }
   ],
   "source": [
    "# Alter your loop to count backwards by 5's from 100 to -10.\n",
    "\n",
    "i=105\n",
    "while i >-6:\n",
    "    i = i-5\n",
    "    print(i)"
   ]
  },
  {
   "cell_type": "code",
   "execution_count": 37,
   "id": "d2b4a488",
   "metadata": {},
   "outputs": [
    {
     "name": "stdout",
     "output_type": "stream",
     "text": [
      "2\n",
      "4\n",
      "16\n",
      "256\n",
      "65536\n"
     ]
    }
   ],
   "source": [
    "# Create a while loop that starts at 2, \n",
    "# and displays the number squared on each line while the number is less than 1,000,000. Output should equal:\n",
    "\n",
    "\n",
    "#  2\n",
    "#  4\n",
    "#  16\n",
    "#  256\n",
    "#  65536\n",
    "\n",
    "i = 0\n",
    "while i < 257:\n",
    "    \n",
    "    if i < 1:\n",
    "        i = i+2\n",
    "    else:\n",
    "        i = i**2\n",
    "    print(i)\n",
    "    \n"
   ]
  },
  {
   "cell_type": "code",
   "execution_count": 39,
   "id": "f8ea9dad",
   "metadata": {},
   "outputs": [
    {
     "name": "stdout",
     "output_type": "stream",
     "text": [
      "100\n",
      "95\n",
      "90\n",
      "85\n",
      "80\n",
      "75\n",
      "70\n",
      "65\n",
      "60\n",
      "55\n",
      "50\n",
      "45\n",
      "40\n",
      "35\n",
      "30\n",
      "25\n",
      "20\n",
      "15\n",
      "10\n",
      "5\n"
     ]
    }
   ],
   "source": [
    "# Write a loop that uses print to create the output shown below.\n",
    "\n",
    "\n",
    "# 100\n",
    "# 95\n",
    "# 90\n",
    "# 85\n",
    "# 80\n",
    "# 75\n",
    "# 70\n",
    "# 65\n",
    "# 60\n",
    "# 55\n",
    "# 50\n",
    "# 45\n",
    "# 40\n",
    "# 35\n",
    "# 30\n",
    "# 25\n",
    "# 20\n",
    "# 15\n",
    "# 10\n",
    "# 5\n",
    "\n",
    "\n",
    "i = 105\n",
    "\n",
    "while i >= 10:\n",
    "    i = i -5\n",
    "    print(i)\n",
    "    "
   ]
  },
  {
   "cell_type": "code",
   "execution_count": 50,
   "id": "ac9f5561",
   "metadata": {},
   "outputs": [
    {
     "name": "stdout",
     "output_type": "stream",
     "text": [
      "put_a_number7\n",
      "7 x 1 = 7\n",
      "7 x 2 = 14\n",
      "7 x 3 = 21\n",
      "7 x 4 = 28\n",
      "7 x 5 = 35\n",
      "7 x 6 = 42\n",
      "7 x 7 = 49\n",
      "7 x 8 = 56\n",
      "7 x 9 = 63\n",
      "7 x 10 = 70\n"
     ]
    }
   ],
   "source": [
    "# b. For Loops\n",
    "\n",
    "# i. Write some code that prompts the user for a number, then shows a multiplication table up through 10 for that number.\n",
    "\n",
    "# For example, if the user enters 7, your program should output:\n",
    "\n",
    "\n",
    "# 7 x 1 = 7\n",
    "# 7 x 2 = 14\n",
    "# 7 x 3 = 21\n",
    "# 7 x 4 = 28\n",
    "# 7 x 5 = 35\n",
    "# 7 x 6 = 42\n",
    "# 7 x 7 = 49\n",
    "# 7 x 8 = 56\n",
    "# 7 x 9 = 63\n",
    "# 7 x 10 = 70\n",
    "\n",
    "\n",
    "\n",
    "num = int(input('put_a_number'))\n",
    "\n",
    "\n",
    "for number in range(1,11):\n",
    "    answer = num * number\n",
    "    print(f'{num} x {number} = {answer}')\n",
    "    \n",
    "\n"
   ]
  },
  {
   "cell_type": "code",
   "execution_count": 57,
   "id": "64779f3b",
   "metadata": {},
   "outputs": [
    {
     "name": "stdout",
     "output_type": "stream",
     "text": [
      "1\n",
      "22\n",
      "333\n",
      "4444\n",
      "55555\n",
      "666666\n",
      "7777777\n",
      "88888888\n",
      "999999999\n",
      "10101010101010101010\n"
     ]
    }
   ],
   "source": [
    "# ii. Create a for loop that uses print to create the output shown below.\n",
    "\n",
    "\n",
    "# 1\n",
    "# 22\n",
    "# 333\n",
    "# 4444\n",
    "# 55555\n",
    "# 666666\n",
    "# 7777777\n",
    "# 88888888\n",
    "# 999999999\n",
    "\n",
    "\n",
    "for num in range(1,11):\n",
    "    print(str(num) * (num))\n"
   ]
  },
  {
   "cell_type": "code",
   "execution_count": 97,
   "id": "8c237255",
   "metadata": {},
   "outputs": [
    {
     "name": "stdout",
     "output_type": "stream",
     "text": [
      "insert_odd_number_between_1_and_5020\n",
      "this is a number\n",
      "is even\n"
     ]
    },
    {
     "ename": "TypeError",
     "evalue": "'<' not supported between instances of 'str' and 'int'",
     "output_type": "error",
     "traceback": [
      "\u001b[0;31m---------------------------------------------------------------------------\u001b[0m",
      "\u001b[0;31mTypeError\u001b[0m                                 Traceback (most recent call last)",
      "Input \u001b[0;32mIn [97]\u001b[0m, in \u001b[0;36m<cell line: 44>\u001b[0;34m()\u001b[0m\n\u001b[1;32m     47\u001b[0m \u001b[38;5;28;01mif\u001b[39;00m (\u001b[38;5;28mint\u001b[39m(odd_num) \u001b[38;5;241m%\u001b[39m\u001b[38;5;241m2\u001b[39m \u001b[38;5;241m==\u001b[39m \u001b[38;5;241m0\u001b[39m) \u001b[38;5;241m==\u001b[39m \u001b[38;5;28;01mTrue\u001b[39;00m:\n\u001b[1;32m     48\u001b[0m     \u001b[38;5;28mprint\u001b[39m(\u001b[38;5;124m'\u001b[39m\u001b[38;5;124mis even\u001b[39m\u001b[38;5;124m'\u001b[39m)\n\u001b[0;32m---> 49\u001b[0m     \u001b[38;5;28;01mif\u001b[39;00m \u001b[43modd_num\u001b[49m\u001b[43m \u001b[49m\u001b[38;5;241;43m<\u001b[39;49m\u001b[43m \u001b[49m\u001b[38;5;241;43m1\u001b[39;49m \u001b[38;5;129;01mor\u001b[39;00m odd_num \u001b[38;5;241m>\u001b[39m \u001b[38;5;241m50\u001b[39m:\n\u001b[1;32m     50\u001b[0m         \u001b[38;5;28;01mbreak\u001b[39;00m\n",
      "\u001b[0;31mTypeError\u001b[0m: '<' not supported between instances of 'str' and 'int'"
     ]
    }
   ],
   "source": [
    "# C.break and continue\n",
    "\n",
    "# i. Prompt the user for an odd number between 1 and 50. \n",
    "#    Use a loop and a break statement to continue prompting the user if they enter invalid input. \n",
    "#   Use a loop and the continue statement to output all the odd numbers between 1 and 50, \n",
    "#   except for the number the user entered.\n",
    "\n",
    "# Your output should look like this:\n",
    "\n",
    "\n",
    "# Number to skip is: 27\n",
    "\n",
    "# Here is an odd number: 1\n",
    "# Here is an odd number: 3\n",
    "# Here is an odd number: 5\n",
    "# Here is an odd number: 7\n",
    "# Here is an odd number: 9\n",
    "# Here is an odd number: 11\n",
    "# Here is an odd number: 13\n",
    "# Here is an odd number: 15\n",
    "# Here is an odd number: 17\n",
    "# Here is an odd number: 19\n",
    "# Here is an odd number: 21\n",
    "# Here is an odd number: 23\n",
    "# Here is an odd number: 25\n",
    "# Yikes! Skipping number: 27\n",
    "# Here is an odd number: 29\n",
    "# Here is an odd number: 31\n",
    "# Here is an odd number: 33\n",
    "# Here is an odd number: 35\n",
    "# Here is an odd number: 37\n",
    "# Here is an odd number: 39\n",
    "# Here is an odd number: 41\n",
    "# Here is an odd number: 43\n",
    "# Here is an odd number: 45\n",
    "# Here is an odd number: 47\n",
    "# Here is an odd number: 49\n",
    "\n",
    "\n",
    "\n",
    "\n",
    "while True:\n",
    "    odd_num = input('insert_odd_number_between_1_and_50')\n",
    "    if (odd_num.isdigit() == True):\n",
    "        print('this is a number')\n",
    "        if (int(odd_num) %2 == 0) == True:\n",
    "            print('is even')\n",
    "            if odd_num < 1 or odd_num > 50:\n",
    "                break\n",
    "\n",
    "        \n",
    "    \n",
    "        \n",
    "    \n",
    "        \n",
    "    \n",
    "    \n",
    "\n",
    "\n",
    "\n",
    "\n",
    "\n"
   ]
  },
  {
   "cell_type": "code",
   "execution_count": 61,
   "id": "06b76d16",
   "metadata": {},
   "outputs": [
    {
     "name": "stdout",
     "output_type": "stream",
     "text": [
      "1\n"
     ]
    }
   ],
   "source": [
    "\n"
   ]
  },
  {
   "cell_type": "code",
   "execution_count": null,
   "id": "ad6e66e8",
   "metadata": {},
   "outputs": [],
   "source": []
  }
 ],
 "metadata": {
  "kernelspec": {
   "display_name": "Python 3 (ipykernel)",
   "language": "python",
   "name": "python3"
  },
  "language_info": {
   "codemirror_mode": {
    "name": "ipython",
    "version": 3
   },
   "file_extension": ".py",
   "mimetype": "text/x-python",
   "name": "python",
   "nbconvert_exporter": "python",
   "pygments_lexer": "ipython3",
   "version": "3.9.12"
  }
 },
 "nbformat": 4,
 "nbformat_minor": 5
}
